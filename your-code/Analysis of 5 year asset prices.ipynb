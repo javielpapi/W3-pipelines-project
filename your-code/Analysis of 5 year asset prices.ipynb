{
 "cells": [
  {
   "cell_type": "markdown",
   "metadata": {},
   "source": [
    "# Analyzing 5 Years of Crypto and Stock Market Prices"
   ]
  },
  {
   "cell_type": "markdown",
   "metadata": {},
   "source": [
    "For this analysis we set out to figure out what was the best investment out of 5 different tech assets, and the SP500 (SP500 is generally considered a low risk asset, so we will use this as our \"safe\" investment asset class for risk comparasions)."
   ]
  },
  {
   "cell_type": "markdown",
   "metadata": {},
   "source": [
    "The asset classes we analyze in this paper are the following:\n",
    "- Crypto:\n",
    "    - Bitcoin\n",
    "    - Etherum\n",
    "- Stocks:\n",
    "    - Microsoft (MSFT)\n",
    "    - Apple (AAPL)\n",
    "    - Gamestop (GME)\n",
    "    - SP500 (GSPC)"
   ]
  },
  {
   "cell_type": "markdown",
   "metadata": {},
   "source": [
    "##  Plotting Time Series Data Price Data"
   ]
  },
  {
   "cell_type": "markdown",
   "metadata": {},
   "source": [
    "To get a clue about which investment would prove best, I decided to go ahead and plot price data as a time series. "
   ]
  },
  {
   "cell_type": "markdown",
   "metadata": {},
   "source": [
    "Trying to do this, I ran into some dificulties plotting, since the assets have a very different range of prices, visualizing all in one plot would cloud our understanding of what is happening with the price. \n",
    "\n",
    "To deal with this we decided to create a new column that contained an indexed price. What this means is that we divided every price by the price at 2016-04-11 (the start of the 5 year period we are interested in analyzing)"
   ]
  },
  {
   "cell_type": "markdown",
   "metadata": {},
   "source": [
    "## Stocks Indexed Price Time Series"
   ]
  },
  {
   "cell_type": "markdown",
   "metadata": {},
   "source": [
    "<img src=\"../Graphs/StockPriceIndexOverTime.jpg\" width=\"800\" height=\"400\"> \n"
   ]
  },
  {
   "cell_type": "markdown",
   "metadata": {},
   "source": [
    "As we can see in this time series, the stock with the biggest price increase in that 5 year period is Gamestop, however, this happens at the end of our analysed time period and is due to the Reddit Mania at the start of 2021 that impulsed the price of the stock to almost 12x its base value \n",
    "\n",
    "[here is an interesting link](https://www.marketwatch.com/story/reddit-trading-guru-keith-gill-looks-to-have-40-million-portfolio-after-his-gamestop-bet-11617301895)\n",
    "\n",
    "In fact, for most of the 5 year period, gamestop has been consistantly performing at levels under the SP500 return.\n",
    "\n"
   ]
  },
  {
   "cell_type": "markdown",
   "metadata": {},
   "source": [
    "</p>Because we know that the latest Gamestop prices aren't really representative of its true price, we are more interested in Microsoft and Apple, who seem to have more than 4x their price in a 5 year span, compared to the low risk SP500 that has almost 2x its base price.</p>"
   ]
  },
  {
   "cell_type": "markdown",
   "metadata": {},
   "source": [
    "## Crypto Indexed Price Time Series"
   ]
  },
  {
   "cell_type": "markdown",
   "metadata": {},
   "source": [
    "<img src=\"../Graphs/crypto_price_index_time.jpg\" width=\"800\" height=\"600\"> "
   ]
  },
  {
   "cell_type": "markdown",
   "metadata": {},
   "source": [
    "</p>As we can see in the 5 year period spanning from april 2016, both Etherum and Bitcoin have increased their price by more than 100X, bitcoin peaking at around 120x the price in april, and Etherum reaching a peak of almost 250X its base price. </p>"
   ]
  },
  {
   "cell_type": "markdown",
   "metadata": {},
   "source": [
    "</p>This are incredible price increases, but they are highly volatile. For example, from the start of 2018 where Etherum peaked at around 150x until the end of 2020, Etherum's price went down - 100x. </p>"
   ]
  },
  {
   "cell_type": "markdown",
   "metadata": {},
   "source": [
    "# The Sharpe Ratio : "
   ]
  },
  {
   "cell_type": "markdown",
   "metadata": {},
   "source": [
    "</p>When investing, it is not always about the return.</p>\n",
    "\n",
    "</p>One must also analyze the risk associated with such return. A good way to do this is with the Sharpe Ratio. The Sharpe Ratio is a way to understand the return of an investment and as well as take into account its risk.\n",
    "\n",
    "\n",
    "\n",
    "$$ \n",
    "Sharpe Ratio = \\frac{R_p - R_f}{SD_p} \\\\  \n",
    "Where:\\\\\n",
    "R_p = The Return of the Asset \\\\\n",
    "R_f = The Return of the Risk Free Asset\\\\\n",
    "SD_p = The Standard Deviation of the Excess Return\\\\\n",
    "$$\n",
    "\n",
    "\n"
   ]
  },
  {
   "cell_type": "markdown",
   "metadata": {},
   "source": [
    "For the baseline, low-risk investment, I decided to go with the S&P 500 which is a index of the top 500 companies in the U.S stock exchange. Relatively low risk.\n"
   ]
  },
  {
   "cell_type": "markdown",
   "metadata": {},
   "source": [
    "### Calculating the Sharpe Ratio"
   ]
  },
  {
   "cell_type": "markdown",
   "metadata": {},
   "source": [
    "### Step 1: Calculating Excess Return"
   ]
  },
  {
   "cell_type": "markdown",
   "metadata": {},
   "source": [
    "We find what the excess return of each stock is by calculating the difference between returns and the returns of the S&P500. This give us the difference of what aour \"risky\" investment return vs our safe bet"
   ]
  },
  {
   "cell_type": "markdown",
   "metadata": {},
   "source": [
    "### Crypto Excess Return"
   ]
  },
  {
   "cell_type": "markdown",
   "metadata": {},
   "source": [
    "\n",
    "<img src=\"../Graphs/Excess Returns Crypto.jpg\" width=\"800\" height=\"600\"> "
   ]
  },
  {
   "cell_type": "markdown",
   "metadata": {},
   "source": [
    "In this graph we plotted the excess return over the years, as you can see for the most part when bitcoin rises etherum rise and vice versa."
   ]
  },
  {
   "cell_type": "markdown",
   "metadata": {},
   "source": [
    "<img src=\"../Graphs/Bitcoin vs Etherum Excess Returns.jpg\" width=\"800\" height=\"600\"> "
   ]
  },
  {
   "cell_type": "markdown",
   "metadata": {},
   "source": [
    "There is a **positive** correlation between Etherum and Bitcoin's Excess Returns. The correlation is of about 80% which is a very strong one."
   ]
  },
  {
   "cell_type": "markdown",
   "metadata": {},
   "source": [
    "### Stocks Excess Return"
   ]
  },
  {
   "cell_type": "markdown",
   "metadata": {},
   "source": [
    "<img src=\"../Graphs/Excess Returns Stocks.jpg\" width=\"800\" height=\"400\"> \n",
    "\n",
    "GME seems to be a big outlier in our data, as it has a lot of sharp negative spikes that represent a return lower than our save bet the S&P 500. However, it goes crazy in the end of 2020 thanks to the r/wallstreetbets pump.\n",
    "\n"
   ]
  },
  {
   "cell_type": "markdown",
   "metadata": {},
   "source": [
    "<img src=\"../Graphs/GME vs MSFT vs Apple Excess Returns.jpg\" width=\"800\" height=\"400\"> \n"
   ]
  },
  {
   "cell_type": "markdown",
   "metadata": {},
   "source": [
    "Suprisingly the positive correlation between AAPL & Microsoft is preatty weak. It is only .28\n",
    "\n",
    "GME's price has a weak negative correlation to its competitor Microsoft(only -.02), and a small positive correlation to Apple(only .028)."
   ]
  },
  {
   "cell_type": "markdown",
   "metadata": {},
   "source": [
    "### Calculating Average Excess Return"
   ]
  },
  {
   "cell_type": "markdown",
   "metadata": {},
   "source": [
    "Next, we calculate the average excess return for all our stocks and crypto currencies"
   ]
  },
  {
   "cell_type": "markdown",
   "metadata": {},
   "source": [
    "<img src=\"../Graphs/AVG Excess Returns Crypto.jpg\" width=\"800\" height=\"400\"> \n",
    "\n",
    "Etherum Averages an Excess Return of around 40%\n",
    "Bitcoin Averages around 35% "
   ]
  },
  {
   "cell_type": "markdown",
   "metadata": {},
   "source": [
    "<img src=\"../Graphs/AVG Excess Returns Stocks.jpg\" width=\"800\" height=\"400\"> \n",
    "\n",
    "\n",
    "Microsoft & Apple both average about 10%, while GME Averages 35 (this is because the reddit pump in price is a big outlier that affects the weight of the mean) "
   ]
  },
  {
   "cell_type": "markdown",
   "metadata": {},
   "source": [
    "## Calculating Risk with the Std Deviation"
   ]
  },
  {
   "cell_type": "markdown",
   "metadata": {},
   "source": [
    "Volatility presents risk to an investment. If the price rapidly varies this could present a risk to you when you try to cash out. \n",
    "\n",
    "To calculate the risk associated with an asset we calculated the standard deviation of the excess return compared to the S&P500"
   ]
  },
  {
   "cell_type": "markdown",
   "metadata": {},
   "source": [
    "<img src=\"../Graphs/Risk Excess Returns Crypto.jpg\" width=\"800\" height=\"400\"> \n"
   ]
  },
  {
   "cell_type": "markdown",
   "metadata": {},
   "source": [
    "As we can see Bitcoin has a standard deviation of about 4% while etherums is around 6%"
   ]
  },
  {
   "cell_type": "markdown",
   "metadata": {},
   "source": [
    "<img src=\"../Graphs/Risk Excess Returns Stock.jpg\" width=\"800\" height=\"400\"> \n"
   ]
  },
  {
   "cell_type": "markdown",
   "metadata": {},
   "source": [
    "Meanwhile Microsoft's excess return has a standard deviation of around 1% while apple has one of around 1.2%.\n",
    "\n",
    "Gamestop, a highly risky asset, has the highest standard deviation of all our asset classes, coming in at around 8.5%"
   ]
  },
  {
   "cell_type": "markdown",
   "metadata": {},
   "source": [
    "## Calculating the Sharpe Ratio"
   ]
  },
  {
   "cell_type": "markdown",
   "metadata": {},
   "source": [
    "A sharpe ratio anywhere higher than 1 is often considered an acceptable or good investment. Anything past 1 is great, while anything below 1 has more risk than reward and should probably be avoided. "
   ]
  },
  {
   "cell_type": "markdown",
   "metadata": {},
   "source": [
    "<img src=\"../Graphs/Anualized Sharpe Ratio Crypto.jpg\" width=\"800\" height=\"400\"> \n"
   ]
  },
  {
   "cell_type": "markdown",
   "metadata": {},
   "source": [
    "As we can see, as a 5 year investment both Etherum and Bitcoin would be considered good investments. They both have generated greater returns than their associated risk, and could be considered good investments. "
   ]
  },
  {
   "cell_type": "markdown",
   "metadata": {},
   "source": [
    "<img src=\"../Graphs/Anualized Sharpe Ratio Stocks.jpg\" width=\"800\" height=\"400\"> \n"
   ]
  },
  {
   "cell_type": "markdown",
   "metadata": {},
   "source": [
    "As 5 year investments Microsoft and Apple are both good investments, although Microsoft takes the crown as they manage to return around 18% more than the associated risk. Gamestop, as a 5 year investment, does not seem to be a good idea as it has a Sharpe Ratio well below 1."
   ]
  },
  {
   "cell_type": "markdown",
   "metadata": {},
   "source": [
    "<img src=\"../Graphs/Annualized Sharpe Ratio All Assets.jpg\" width=\"800\" height=\"400\"> \n"
   ]
  },
  {
   "cell_type": "markdown",
   "metadata": {},
   "source": [
    "### Ranking our choosen investments by Sharpe Ratio:\n",
    "### 1. Bitcoin = 1.32\n",
    "### 2. Microsoft = 1.18\n",
    "### 3. Etherum = 1.15\n",
    "### 4. Apple = .99\n",
    "### 5. Gamestop = .69"
   ]
  },
  {
   "cell_type": "markdown",
   "metadata": {},
   "source": [
    "## Insights Obtained"
   ]
  },
  {
   "cell_type": "markdown",
   "metadata": {},
   "source": [
    "### 1. The best investment taking in the last 5 years of historical data would have been Bitcoin, followed by Microsoft, Etherum, and Apple, that order. All but Gamestop would be considered good investments in terms of risk/return.\n",
    "### 2. Despite the tremendous price increase in Gamestop stock seen in the past few months, the levels of risk associated with this asset makes it a very unnatractive investment.\n",
    "### 3. There is a very strong possitive correlation between the price of Bitcoin and that of Etherum. For the most part, if one rises the other one will to. \n",
    "### 4. Gamestop has the highest standard deviation, making it the riskiest asset. "
   ]
  },
  {
   "cell_type": "markdown",
   "metadata": {},
   "source": [
    "## Improvements to be made"
   ]
  },
  {
   "cell_type": "markdown",
   "metadata": {},
   "source": [
    "### 1. Creating a predictive model of stock prices\n",
    "### 2. Including more information in the analysis such as volume per trading day\n",
    "### 3. Include more stocks, it wouldd be interesting to see how more cyclical stocks like Airlines or Hotels did historically vs after covid."
   ]
  }
 ],
 "metadata": {
  "kernelspec": {
   "display_name": "Python 3",
   "language": "python",
   "name": "python3"
  },
  "language_info": {
   "codemirror_mode": {
    "name": "ipython",
    "version": 3
   },
   "file_extension": ".py",
   "mimetype": "text/x-python",
   "name": "python",
   "nbconvert_exporter": "python",
   "pygments_lexer": "ipython3",
   "version": "3.8.5"
  }
 },
 "nbformat": 4,
 "nbformat_minor": 4
}
